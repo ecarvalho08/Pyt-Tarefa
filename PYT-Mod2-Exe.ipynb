{
 "cells": [
  {
   "cell_type": "markdown",
   "metadata": {
    "id": "KJqp9AANOCtf"
   },
   "source": [
    "<img src=\"https://raw.githubusercontent.com/andre-marcos-perez/ebac-course-utils/main/media/logo/newebac_logo_black_half.png\" alt=\"ebac-logo\">\n",
    "\n",
    "---\n",
    "\n",
    "# **Módulo 02** | Python: Estruturas de Dados\n",
    "Caderno de **Exercícios**<br> \n",
    "Professor [André Perez](https://www.linkedin.com/in/andremarcosperez/)\n",
    "\n",
    "---"
   ]
  },
  {
   "cell_type": "markdown",
   "metadata": {
    "id": "d9jDtUbDOE1-"
   },
   "source": [
    "# **Tópicos**\n",
    "\n",
    "<ol type=\"1\">\n",
    "  <li>Listas;</li>\n",
    "  <li>Conjuntos;</li>\n",
    "  <li>Dicionários.</li>\n",
    "</ol>"
   ]
  },
  {
   "cell_type": "markdown",
   "metadata": {
    "id": "SmoHgt-lwkpD"
   },
   "source": [
    "---"
   ]
  },
  {
   "cell_type": "markdown",
   "metadata": {
    "id": "GABI6OW8OfQ2"
   },
   "source": [
    "# **Exercícios**"
   ]
  },
  {
   "cell_type": "markdown",
   "metadata": {
    "id": "muD1vxozykSC"
   },
   "source": [
    "## 1\\. Listas"
   ]
  },
  {
   "cell_type": "markdown",
   "metadata": {
    "id": "ahrFfCuBxJKs"
   },
   "source": [
    "Criei uma lista chamada `filmes` com o nome dos 10 primeiros filmes mais bem avaliados no site no [IMDB](https://www.imdb.com/chart/top/). Imprima o resultado."
   ]
  },
  {
   "cell_type": "code",
   "execution_count": 4,
   "metadata": {
    "id": "OgL6Hv3bzOHI",
    "scrolled": false
   },
   "outputs": [
    {
     "name": "stdout",
     "output_type": "stream",
     "text": [
      "['Um sonho de liberdade', 'O poderoso Chefão', 'O poderoso Chefão 2', 'Batman: O cavaleiro das trevas', '12 homens e uma setença', 'A lista de Schindler', 'O senhor dos anéis: O retorno do Rei', ' Pulp Fiction: Tempo de violência', 'Três homens em conflito', 'O senhor dos anéis: A sociedade do Anel']\n"
     ]
    }
   ],
   "source": [
    "filmes_top_ten=['Um sonho de liberdade','O poderoso Chefão','O poderoso Chefão 2','Batman: O cavaleiro das trevas','12 homens e uma setença','A lista de Schindler','O senhor dos anéis: O retorno do Rei',' Pulp Fiction: Tempo de violência','Três homens em conflito','O senhor dos anéis: A sociedade do Anel']\n",
    "print(filmes_top_ten)"
   ]
  },
  {
   "cell_type": "markdown",
   "metadata": {
    "id": "KI9zQRT2xa7m"
   },
   "source": [
    "Simule a movimentação do *ranking*. Utilize os métodos `insert` e `pop` para trocar a posição do primeiro e do segundo filme da lista. Imprima o resultado.\n",
    "\n"
   ]
  },
  {
   "cell_type": "code",
   "execution_count": 5,
   "metadata": {
    "scrolled": false
   },
   "outputs": [
    {
     "name": "stdout",
     "output_type": "stream",
     "text": [
      "['O poderoso Chefão', 'Um sonho de liberdade', 'O poderoso Chefão', 'O poderoso Chefão 2', 'Batman: O cavaleiro das trevas', '12 homens e uma setença', 'A lista de Schindler', 'O senhor dos anéis: O retorno do Rei', ' Pulp Fiction: Tempo de violência', 'Três homens em conflito', 'O senhor dos anéis: A sociedade do Anel']\n"
     ]
    }
   ],
   "source": [
    "filmes_top_ten.insert(0, 'O poderoso Chefão')                          \n",
    "print(filmes_top_ten)                          \n",
    "                            "
   ]
  },
  {
   "cell_type": "code",
   "execution_count": 6,
   "metadata": {},
   "outputs": [
    {
     "name": "stdout",
     "output_type": "stream",
     "text": [
      "O poderoso Chefão\n"
     ]
    }
   ],
   "source": [
    "ter=filmes_top_ten.pop(2)\n",
    "print(ter)"
   ]
  },
  {
   "cell_type": "code",
   "execution_count": 7,
   "metadata": {},
   "outputs": [
    {
     "name": "stdout",
     "output_type": "stream",
     "text": [
      "['O poderoso Chefão', 'Um sonho de liberdade', 'O poderoso Chefão 2', 'Batman: O cavaleiro das trevas', '12 homens e uma setença', 'A lista de Schindler', 'O senhor dos anéis: O retorno do Rei', ' Pulp Fiction: Tempo de violência', 'Três homens em conflito', 'O senhor dos anéis: A sociedade do Anel']\n",
      "10\n"
     ]
    }
   ],
   "source": [
    "print(filmes_top_ten)\n",
    "print(len(filmes_top_ten))"
   ]
  },
  {
   "cell_type": "markdown",
   "metadata": {
    "id": "lxa5L6uF0ZJE"
   },
   "source": [
    "## 2\\. Conjuntos"
   ]
  },
  {
   "cell_type": "markdown",
   "metadata": {
    "id": "9JahS2Kj0d5u"
   },
   "source": [
    "Aconteceu um erro no seu *ranking*. Simule a duplicação dos três últimos filmes da lista. Imprima o resultado."
   ]
  },
  {
   "cell_type": "code",
   "execution_count": 8,
   "metadata": {
    "id": "BnjnLBNC6PGe"
   },
   "outputs": [
    {
     "name": "stdout",
     "output_type": "stream",
     "text": [
      "['O poderoso Chefão', 'Um sonho de liberdade', 'O poderoso Chefão 2', 'Batman: O cavaleiro das trevas', '12 homens e uma setença', 'A lista de Schindler', 'O senhor dos anéis: O retorno do Rei', ' Pulp Fiction: Tempo de violência', 'Três homens em conflito', 'O senhor dos anéis: A sociedade do Anel', ' Pulp Fiction: Tempo de violência']\n",
      "11\n"
     ]
    }
   ],
   "source": [
    "filmes_top_ten.append(' Pulp Fiction: Tempo de violência')\n",
    "print(filmes_top_ten)\n",
    "print(len(filmes_top_ten))"
   ]
  },
  {
   "cell_type": "code",
   "execution_count": 9,
   "metadata": {},
   "outputs": [
    {
     "name": "stdout",
     "output_type": "stream",
     "text": [
      "['O poderoso Chefão', 'Um sonho de liberdade', 'O poderoso Chefão 2', 'Batman: O cavaleiro das trevas', '12 homens e uma setença', 'A lista de Schindler', 'O senhor dos anéis: O retorno do Rei', ' Pulp Fiction: Tempo de violência', 'Três homens em conflito', 'O senhor dos anéis: A sociedade do Anel', ' Pulp Fiction: Tempo de violência', 'Três homens em conflito']\n",
      "12\n"
     ]
    }
   ],
   "source": [
    "filmes_top_ten.append('Três homens em conflito')\n",
    "print(filmes_top_ten)\n",
    "print(len(filmes_top_ten))"
   ]
  },
  {
   "cell_type": "code",
   "execution_count": 10,
   "metadata": {
    "scrolled": true
   },
   "outputs": [
    {
     "name": "stdout",
     "output_type": "stream",
     "text": [
      "['O poderoso Chefão', 'Um sonho de liberdade', 'O poderoso Chefão 2', 'Batman: O cavaleiro das trevas', '12 homens e uma setença', 'A lista de Schindler', 'O senhor dos anéis: O retorno do Rei', ' Pulp Fiction: Tempo de violência', 'Três homens em conflito', 'O senhor dos anéis: A sociedade do Anel', ' Pulp Fiction: Tempo de violência', 'Três homens em conflito', 'O senhor dos anéis: A sociedade do Anel']\n",
      "13\n"
     ]
    }
   ],
   "source": [
    "filmes_top_ten.append('O senhor dos anéis: A sociedade do Anel')\n",
    "print(filmes_top_ten)\n",
    "print(len(filmes_top_ten))"
   ]
  },
  {
   "cell_type": "markdown",
   "metadata": {
    "id": "suxTfCJB6ZiX"
   },
   "source": [
    "Utiliza a conversão `set` e `list` para remover os valores duplicados. Imprima o resultado. "
   ]
  },
  {
   "cell_type": "code",
   "execution_count": 12,
   "metadata": {
    "scrolled": true
   },
   "outputs": [
    {
     "name": "stdout",
     "output_type": "stream",
     "text": [
      "{'Batman: O cavaleiro das trevas', 'Três homens em conflito', 'Um sonho de liberdade', 'O senhor dos anéis: O retorno do Rei', 'O poderoso Chefão 2', 'O senhor dos anéis: A sociedade do Anel', 'A lista de Schindler', '12 homens e uma setença', ' Pulp Fiction: Tempo de violência', 'O poderoso Chefão'}\n",
      "10\n"
     ]
    }
   ],
   "source": [
    "print(set(filmes_top_ten))\n",
    "print(len(set(filmes_top_ten)))"
   ]
  },
  {
   "cell_type": "code",
   "execution_count": 13,
   "metadata": {},
   "outputs": [
    {
     "name": "stdout",
     "output_type": "stream",
     "text": [
      "['O poderoso Chefão', 'Um sonho de liberdade', 'O poderoso Chefão 2', 'Batman: O cavaleiro das trevas', '12 homens e uma setença', 'A lista de Schindler', 'O senhor dos anéis: O retorno do Rei', ' Pulp Fiction: Tempo de violência', 'Três homens em conflito', 'O senhor dos anéis: A sociedade do Anel', ' Pulp Fiction: Tempo de violência', 'Três homens em conflito', 'O senhor dos anéis: A sociedade do Anel']\n",
      "13\n"
     ]
    }
   ],
   "source": [
    "print(list(filmes_top_ten))\n",
    "print(len(filmes_top_ten))"
   ]
  },
  {
   "cell_type": "code",
   "execution_count": 15,
   "metadata": {
    "scrolled": true
   },
   "outputs": [
    {
     "name": "stdout",
     "output_type": "stream",
     "text": [
      "['Batman: O cavaleiro das trevas', 'Três homens em conflito', 'Um sonho de liberdade', 'O senhor dos anéis: O retorno do Rei', 'O poderoso Chefão 2', 'O senhor dos anéis: A sociedade do Anel', 'A lista de Schindler', '12 homens e uma setença', ' Pulp Fiction: Tempo de violência', 'O poderoso Chefão']\n",
      "10\n"
     ]
    }
   ],
   "source": [
    "print(list(set(filmes_top_ten)))\n",
    "print(len(list(set(filmes_top_ten))))"
   ]
  },
  {
   "cell_type": "markdown",
   "metadata": {},
   "source": [
    "Observei que o caminho acima retirou os filmes duplicados, porém a lista não está na ordem inicial (top ten). "
   ]
  },
  {
   "cell_type": "markdown",
   "metadata": {
    "id": "EL_FzmxL6rTv"
   },
   "source": [
    "## 3\\. Dicionários"
   ]
  },
  {
   "cell_type": "markdown",
   "metadata": {
    "id": "i8l0gFqRCpfT"
   },
   "source": [
    "Repita os exercícios da parte 1 (listas). Os elementos da lista `filmes` devem ser dicionários no seguinte formato: `{'nome': <nome-do-filme>, 'ano': <ano do filme>}, 'sinopse': <sinopse do filme>}`. "
   ]
  },
  {
   "cell_type": "code",
   "execution_count": 64,
   "metadata": {},
   "outputs": [],
   "source": [
    "ftt = []"
   ]
  },
  {
   "cell_type": "code",
   "execution_count": 65,
   "metadata": {
    "scrolled": false
   },
   "outputs": [],
   "source": [
    "ftt1= {\n",
    "    'nome':'O poderoso chefão.',\n",
    "    'ano' :'1972',\n",
    "    'sinopse': 'O patriarca idoso de uma dinastia do crime organizado transfere o controle de seu império clandestino para seu filho relutante.'}\n",
    "\n"
   ]
  },
  {
   "cell_type": "code",
   "execution_count": 66,
   "metadata": {},
   "outputs": [],
   "source": [
    "ftt.append(ftt1)"
   ]
  },
  {
   "cell_type": "code",
   "execution_count": 67,
   "metadata": {
    "scrolled": true
   },
   "outputs": [],
   "source": [
    "ftt2= {\n",
    "    'nome':'Um sonho de liberdade.',\n",
    "    'ano' :'1994',\n",
    "    'sinopse': 'Dois homens presos se reúnem ao longo de vários anos, encontrando consolo e eventual redenção através de atos de decência comum.'}\n"
   ]
  },
  {
   "cell_type": "code",
   "execution_count": 68,
   "metadata": {},
   "outputs": [],
   "source": [
    "ftt.append(ftt2)"
   ]
  },
  {
   "cell_type": "code",
   "execution_count": 71,
   "metadata": {},
   "outputs": [],
   "source": [
    "ftt3= {\n",
    "    'nome':'O poderoso chefão 2',\n",
    "    'ano' :'1974',\n",
    "    'sinopse': 'Em 1950, Michael Corleone, agora à frente da família, tenta expandir o negócio do crime a Las Vegas, Los Angeles e Cuba. Paralelamente, é revelada a história de Vito Corleone, e de como saiu da Sicília e chegou a Nova Iorque.'}"
   ]
  },
  {
   "cell_type": "code",
   "execution_count": 72,
   "metadata": {},
   "outputs": [],
   "source": [
    "ftt.append(ftt3)"
   ]
  },
  {
   "cell_type": "code",
   "execution_count": 73,
   "metadata": {},
   "outputs": [],
   "source": [
    "ftt4= {\n",
    "    'nome':'Batman : O cavaleiro das trevas',\n",
    "    'ano' :'2008',\n",
    "    'sinopse': 'Quando a ameaça conhecida como O Coringa surge de seu passado, causa estragos e caos nas pessoas de Gotham. O Cavaleiro das Trevas deve aceitar um dos maiores testes para combater a injustiça.'\n",
    "}"
   ]
  },
  {
   "cell_type": "code",
   "execution_count": 74,
   "metadata": {},
   "outputs": [],
   "source": [
    "ftt.append(ftt4)"
   ]
  },
  {
   "cell_type": "code",
   "execution_count": 75,
   "metadata": {},
   "outputs": [],
   "source": [
    "ftt5= {\n",
    "    'nome':'12 homens e uma setença',\n",
    "    'ano' :'1957',\n",
    "    'sinopse': 'Um jurado que se aposenta tenta evitar um erro judicial forçando seus colegas a reconsiderarem as evidências.'\n",
    "}"
   ]
  },
  {
   "cell_type": "code",
   "execution_count": 76,
   "metadata": {},
   "outputs": [],
   "source": [
    "ftt.append(ftt5)"
   ]
  },
  {
   "cell_type": "code",
   "execution_count": 77,
   "metadata": {},
   "outputs": [],
   "source": [
    "ftt6= {\n",
    "    'nome':'A lista de Schindler',\n",
    "    'ano' :'1993',\n",
    "    'sinopse': 'Depois de testemunhar a perseguição dos judaicos na Polônia ocupada pelos alemães durante a Segunda Guerra Mundial, o industrial Oskar Schindler se começa a preocupar com sua força de trabalho judaica.'\n",
    "}"
   ]
  },
  {
   "cell_type": "code",
   "execution_count": 78,
   "metadata": {},
   "outputs": [],
   "source": [
    "ftt.append(ftt6)"
   ]
  },
  {
   "cell_type": "code",
   "execution_count": 79,
   "metadata": {},
   "outputs": [],
   "source": [
    "ftt7= {\n",
    "    'nome':'O senhor dos anéis : O retorno do Rei',\n",
    "    'ano' :'2003',\n",
    "    'sinopse': 'Gandalf e Aragorn lideram o Mundo dos Homens contra o exército de Sauron para desviar o olhar de Frodo e Sam quando eles se aproximam á Montanha da Perdição com o Um Anel.'\n",
    "}"
   ]
  },
  {
   "cell_type": "code",
   "execution_count": 80,
   "metadata": {},
   "outputs": [],
   "source": [
    "ftt.append(ftt7)"
   ]
  },
  {
   "cell_type": "code",
   "execution_count": 81,
   "metadata": {},
   "outputs": [],
   "source": [
    "ftt8= {\n",
    "    'nome':'Pulp Fiction: tempo de vilência',\n",
    "    'ano' :'1994',\n",
    "    'sinopse': 'As vidas de dois assassinos da máfia, um boxeador, um gângster e sua esposa, e um par de bandidos se entrelaçam em quatro histórias de violência e redenção.'\n",
    "}"
   ]
  },
  {
   "cell_type": "code",
   "execution_count": null,
   "metadata": {},
   "outputs": [],
   "source": [
    "ftt.append(ftt8)"
   ]
  },
  {
   "cell_type": "code",
   "execution_count": 82,
   "metadata": {},
   "outputs": [],
   "source": [
    "ftt9= {\n",
    "    'nome':'Três homens em conflito',\n",
    "    'ano' :'1966',\n",
    "    'sinopse': 'Um impostor se junta com dois homens para encontrar fortuna num remoto cemitério.'\n",
    "}"
   ]
  },
  {
   "cell_type": "code",
   "execution_count": 83,
   "metadata": {},
   "outputs": [],
   "source": [
    "ftt.append(ftt9)"
   ]
  },
  {
   "cell_type": "code",
   "execution_count": 84,
   "metadata": {},
   "outputs": [],
   "source": [
    "ftt10= {\n",
    "    'nome':'O Senhor dos anéis : A sociedade do anel',\n",
    "    'ano' :'2001',\n",
    "    'sinopse': 'Um manso hobbit do Condado e oito companheiros partem em uma jornada para destruir o poderoso Um Anel e salvar a Terra-média das Trevas.'\n",
    "}"
   ]
  },
  {
   "cell_type": "code",
   "execution_count": 85,
   "metadata": {},
   "outputs": [],
   "source": [
    "ftt.append(ftt10)"
   ]
  },
  {
   "cell_type": "code",
   "execution_count": 86,
   "metadata": {
    "scrolled": false
   },
   "outputs": [
    {
     "name": "stdout",
     "output_type": "stream",
     "text": [
      "[{'nome': 'O poderoso chefão.', 'ano': '1972', 'sinopse': 'O patriarca idoso de uma dinastia do crime organizado transfere o controle de seu império clandestino para seu filho relutante.'}, {'nome': 'Um sonho de liberdade.', 'ano': '1994', 'sinopse': 'Dois homens presos se reúnem ao longo de vários anos, encontrando consolo e eventual redenção através de atos de decência comum.'}, {'nome': 'O poderoso chefão 2', 'ano': '1974', 'sinopse': 'Em 1950, Michael Corleone, agora à frente da família, tenta expandir o negócio do crime a Las Vegas, Los Angeles e Cuba. Paralelamente, é revelada a história de Vito Corleone, e de como saiu da Sicília e chegou a Nova Iorque.'}, {'nome': 'Batman : O cavaleiro das trevas', 'ano': '2008', 'sinopse': 'Quando a ameaça conhecida como O Coringa surge de seu passado, causa estragos e caos nas pessoas de Gotham. O Cavaleiro das Trevas deve aceitar um dos maiores testes para combater a injustiça.'}, {'nome': '12 homens e uma setença', 'ano': '1957', 'sinopse': 'Um jurado que se aposenta tenta evitar um erro judicial forçando seus colegas a reconsiderarem as evidências.'}, {'nome': 'A lista de Schindler', 'ano': '1993', 'sinopse': 'Depois de testemunhar a perseguição dos judaicos na Polônia ocupada pelos alemães durante a Segunda Guerra Mundial, o industrial Oskar Schindler se começa a preocupar com sua força de trabalho judaica.'}, {'nome': 'O senhor dos anéis : O retorno do Rei', 'ano': '2003', 'sinopse': 'Gandalf e Aragorn lideram o Mundo dos Homens contra o exército de Sauron para desviar o olhar de Frodo e Sam quando eles se aproximam á Montanha da Perdição com o Um Anel.'}, {'nome': 'Três homens em conflito', 'ano': '1966', 'sinopse': 'Um impostor se junta com dois homens para encontrar fortuna num remoto cemitério.'}, {'nome': 'O Senhor dos anéis : A sociedade do anel', 'ano': '2001', 'sinopse': 'Um manso hobbit do Condado e oito companheiros partem em uma jornada para destruir o poderoso Um Anel e salvar a Terra-média das Trevas.'}]\n"
     ]
    }
   ],
   "source": [
    "print(ftt)"
   ]
  },
  {
   "cell_type": "code",
   "execution_count": null,
   "metadata": {},
   "outputs": [],
   "source": []
  }
 ],
 "metadata": {
  "colab": {
   "collapsed_sections": [],
   "name": "module_2_exercise.ipynb",
   "provenance": [],
   "toc_visible": true
  },
  "kernelspec": {
   "display_name": "Python 3 (ipykernel)",
   "language": "python",
   "name": "python3"
  },
  "language_info": {
   "codemirror_mode": {
    "name": "ipython",
    "version": 3
   },
   "file_extension": ".py",
   "mimetype": "text/x-python",
   "name": "python",
   "nbconvert_exporter": "python",
   "pygments_lexer": "ipython3",
   "version": "3.9.7"
  }
 },
 "nbformat": 4,
 "nbformat_minor": 1
}
